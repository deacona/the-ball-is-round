{
 "cells": [
  {
   "cell_type": "markdown",
   "metadata": {},
   "source": [
    "# Boro Player Predictions - Current Market Value"
   ]
  },
  {
   "cell_type": "markdown",
   "metadata": {},
   "source": [
    "## 0. Setup"
   ]
  },
  {
   "cell_type": "code",
   "execution_count": 1,
   "metadata": {},
   "outputs": [],
   "source": [
    "import os\n",
    "import numpy as np\n",
    "import pandas as pd"
   ]
  },
  {
   "cell_type": "markdown",
   "metadata": {},
   "source": [
    "## 1. Problem Definition"
   ]
  },
  {
   "cell_type": "markdown",
   "metadata": {},
   "source": [
    "The aim of this project is to see if we can use data on players at Middlesbrough Football Club to make preditions about the player's and the team's current and future performance.\n",
    "\n",
    "\"Performance\" could be measured in many different ways: Results on the pitch, market value, fan popularity, churn, ..."
   ]
  },
  {
   "cell_type": "markdown",
   "metadata": {},
   "source": [
    "## 2. Data Understanding"
   ]
  },
  {
   "cell_type": "markdown",
   "metadata": {},
   "source": [
    "The first part of the data we'll look at is some general information on players, including their market value, as taken from Transfermarkt"
   ]
  },
  {
   "cell_type": "code",
   "execution_count": 99,
   "metadata": {},
   "outputs": [
    {
     "name": "stdout",
     "output_type": "stream",
     "text": [
      "../data/raw/tmk/tmk_cnt/tmk_cnt_mbr_all_0910.csv\n",
      "../data/raw/tmk/tmk_cnt/tmk_cnt_mbr_all_1011.csv\n",
      "../data/raw/tmk/tmk_cnt/tmk_cnt_mbr_all_1112.csv\n",
      "../data/raw/tmk/tmk_cnt/tmk_cnt_mbr_all_1213.csv\n",
      "../data/raw/tmk/tmk_cnt/tmk_cnt_mbr_all_1314.csv\n",
      "../data/raw/tmk/tmk_cnt/tmk_cnt_mbr_all_1415.csv\n",
      "../data/raw/tmk/tmk_cnt/tmk_cnt_mbr_all_1516.csv\n",
      "../data/raw/tmk/tmk_cnt/tmk_cnt_mbr_all_1617.csv\n",
      "../data/raw/tmk/tmk_cnt/tmk_cnt_mbr_all_1718.csv\n",
      "../data/raw/tmk/tmk_cnt/tmk_cnt_mbr_all_1819.csv\n",
      "../data/raw/tmk/tmk_cnt/tmk_cnt_mbr_all_1920.csv\n",
      "<class 'pandas.core.frame.DataFrame'>\n",
      "Int64Index: 364 entries, 0 to 777\n",
      "Data columns (total 10 columns):\n",
      "Shirt number        333 non-null float64\n",
      "Position            364 non-null object\n",
      "Name                364 non-null object\n",
      "Date of birth       364 non-null object\n",
      "Height              364 non-null object\n",
      "Foot                322 non-null object\n",
      "Joined              351 non-null object\n",
      "Contract expires    169 non-null object\n",
      "Market value        364 non-null object\n",
      "Season              364 non-null object\n",
      "dtypes: float64(1), object(9)\n",
      "memory usage: 31.3+ KB\n"
     ]
    }
   ],
   "source": [
    "dir_tmk_cnt = \"../data/raw/tmk/tmk_cnt/\"\n",
    "data_list = []\n",
    "for file in os.listdir(dir_tmk_cnt):\n",
    "    filepath = os.path.join(dir_tmk_cnt, file)\n",
    "    print(filepath)\n",
    "    tmp = pd.read_csv(filepath, encoding='latin-1', header=0, \n",
    "                      names=[\"Shirt number\", \"Position\", \"Name\", \"Date of birth\", \"Nationality\",\n",
    "                            \"Height\", \"Foot\", \"Joined\", \"Signed from\", \"Contract expires\",\n",
    "                            \"Market value\"])\n",
    "    tmp[\"Season\"] = file.split(\".\")[0].split(\"_\")[-1]\n",
    "    data_list.append(tmp)\n",
    "\n",
    "tmk_df = pd.concat(data_list, axis=0, sort=False, ignore_index=True)\n",
    "\n",
    "tmk_df[\"Name\"].fillna(method=\"bfill\", inplace=True)\n",
    "\n",
    "tmk_df[\"Position\"] = tmk_df.Name.shift(-1)\n",
    "tmk_df.loc[tmk_df.Position == tmk_df.Name, \"Position\"] = tmk_df.Name.shift(-2)\n",
    "\n",
    "tmk_df.drop(axis=1, columns=[\"Nationality\", \"Signed from\"], inplace=True)\n",
    "\n",
    "tmk_df.dropna(subset=[\"Market value\"], inplace=True)\n",
    "\n",
    "tmk_df = tmk_df.replace('-', np.nan)\n",
    "\n",
    "tmk_df[\"Shirt number\"] = pd.to_numeric(tmk_df[\"Shirt number\"], downcast='integer')\n",
    "\n",
    "## cleanup TODO\n",
    "## Position group - Keeper, Defender, Midfield, Attack\n",
    "## Split Age from Date of birth\n",
    "## Convert Date of birth, Joined and Contract expires to dates\n",
    "## Convert Height and Market value to numeric\n",
    "## Season end (proxy)\n",
    "## Seasons in team\n",
    "## One-hot encode Position group and Foot\n",
    "\n",
    "tmk_df.info()"
   ]
  },
  {
   "cell_type": "code",
   "execution_count": 100,
   "metadata": {},
   "outputs": [
    {
     "data": {
      "text/html": [
       "<div>\n",
       "<style scoped>\n",
       "    .dataframe tbody tr th:only-of-type {\n",
       "        vertical-align: middle;\n",
       "    }\n",
       "\n",
       "    .dataframe tbody tr th {\n",
       "        vertical-align: top;\n",
       "    }\n",
       "\n",
       "    .dataframe thead th {\n",
       "        text-align: right;\n",
       "    }\n",
       "</style>\n",
       "<table border=\"1\" class=\"dataframe\">\n",
       "  <thead>\n",
       "    <tr style=\"text-align: right;\">\n",
       "      <th></th>\n",
       "      <th>Shirt number</th>\n",
       "      <th>Position</th>\n",
       "      <th>Name</th>\n",
       "      <th>Date of birth</th>\n",
       "      <th>Height</th>\n",
       "      <th>Foot</th>\n",
       "      <th>Joined</th>\n",
       "      <th>Contract expires</th>\n",
       "      <th>Market value</th>\n",
       "      <th>Season</th>\n",
       "    </tr>\n",
       "  </thead>\n",
       "  <tbody>\n",
       "    <tr>\n",
       "      <th>0</th>\n",
       "      <td>1.0</td>\n",
       "      <td>Keeper</td>\n",
       "      <td>Brad Jones</td>\n",
       "      <td>Mar 19, 1982 (27)</td>\n",
       "      <td>1,94 m</td>\n",
       "      <td>left</td>\n",
       "      <td>Jul 1, 2000</td>\n",
       "      <td>NaN</td>\n",
       "      <td>£1.13m</td>\n",
       "      <td>0910</td>\n",
       "    </tr>\n",
       "    <tr>\n",
       "      <th>2</th>\n",
       "      <td>21.0</td>\n",
       "      <td>Keeper</td>\n",
       "      <td>Danny Coyne</td>\n",
       "      <td>Aug 27, 1973 (35)</td>\n",
       "      <td>1,83 m</td>\n",
       "      <td>right</td>\n",
       "      <td>Jul 6, 2009</td>\n",
       "      <td>NaN</td>\n",
       "      <td>£450k</td>\n",
       "      <td>0910</td>\n",
       "    </tr>\n",
       "    <tr>\n",
       "      <th>4</th>\n",
       "      <td>30.0</td>\n",
       "      <td>Keeper</td>\n",
       "      <td>Jason Steele</td>\n",
       "      <td>Aug 18, 1990 (18)</td>\n",
       "      <td>1,88 m</td>\n",
       "      <td>right</td>\n",
       "      <td>Jul 1, 2008</td>\n",
       "      <td>NaN</td>\n",
       "      <td>£75k</td>\n",
       "      <td>0910</td>\n",
       "    </tr>\n",
       "    <tr>\n",
       "      <th>6</th>\n",
       "      <td>19.0</td>\n",
       "      <td>Centre Back</td>\n",
       "      <td>Stephen McManus</td>\n",
       "      <td>Sep 10, 1982 (26)</td>\n",
       "      <td>1,88 m</td>\n",
       "      <td>left</td>\n",
       "      <td>Jan 29, 2010</td>\n",
       "      <td>NaN</td>\n",
       "      <td>£5.63m</td>\n",
       "      <td>0910</td>\n",
       "    </tr>\n",
       "    <tr>\n",
       "      <th>8</th>\n",
       "      <td>31.0</td>\n",
       "      <td>Centre Back</td>\n",
       "      <td>David Wheater</td>\n",
       "      <td>Feb 14, 1987 (22)</td>\n",
       "      <td>1,96 m</td>\n",
       "      <td>right</td>\n",
       "      <td>Jan 1, 2006</td>\n",
       "      <td>NaN</td>\n",
       "      <td>£4.35m</td>\n",
       "      <td>0910</td>\n",
       "    </tr>\n",
       "  </tbody>\n",
       "</table>\n",
       "</div>"
      ],
      "text/plain": [
       "   Shirt number     Position             Name      Date of birth  Height  \\\n",
       "0           1.0       Keeper       Brad Jones  Mar 19, 1982 (27)  1,94 m   \n",
       "2          21.0       Keeper      Danny Coyne  Aug 27, 1973 (35)  1,83 m   \n",
       "4          30.0       Keeper     Jason Steele  Aug 18, 1990 (18)  1,88 m   \n",
       "6          19.0  Centre Back  Stephen McManus  Sep 10, 1982 (26)  1,88 m   \n",
       "8          31.0  Centre Back    David Wheater  Feb 14, 1987 (22)  1,96 m   \n",
       "\n",
       "    Foot        Joined Contract expires Market value Season  \n",
       "0   left   Jul 1, 2000              NaN     £1.13m     0910  \n",
       "2  right   Jul 6, 2009              NaN      £450k     0910  \n",
       "4  right   Jul 1, 2008              NaN       £75k     0910  \n",
       "6   left  Jan 29, 2010              NaN     £5.63m     0910  \n",
       "8  right   Jan 1, 2006              NaN     £4.35m     0910  "
      ]
     },
     "execution_count": 100,
     "metadata": {},
     "output_type": "execute_result"
    }
   ],
   "source": [
    "tmk_df.head(5)"
   ]
  },
  {
   "cell_type": "code",
   "execution_count": 102,
   "metadata": {},
   "outputs": [
    {
     "data": {
      "text/html": [
       "<div>\n",
       "<style scoped>\n",
       "    .dataframe tbody tr th:only-of-type {\n",
       "        vertical-align: middle;\n",
       "    }\n",
       "\n",
       "    .dataframe tbody tr th {\n",
       "        vertical-align: top;\n",
       "    }\n",
       "\n",
       "    .dataframe thead th {\n",
       "        text-align: right;\n",
       "    }\n",
       "</style>\n",
       "<table border=\"1\" class=\"dataframe\">\n",
       "  <thead>\n",
       "    <tr style=\"text-align: right;\">\n",
       "      <th></th>\n",
       "      <th>Shirt number</th>\n",
       "      <th>Position</th>\n",
       "      <th>Name</th>\n",
       "      <th>Date of birth</th>\n",
       "      <th>Height</th>\n",
       "      <th>Foot</th>\n",
       "      <th>Joined</th>\n",
       "      <th>Contract expires</th>\n",
       "      <th>Market value</th>\n",
       "      <th>Season</th>\n",
       "    </tr>\n",
       "  </thead>\n",
       "  <tbody>\n",
       "    <tr>\n",
       "      <th>count</th>\n",
       "      <td>333.000000</td>\n",
       "      <td>364</td>\n",
       "      <td>364</td>\n",
       "      <td>364</td>\n",
       "      <td>364</td>\n",
       "      <td>322</td>\n",
       "      <td>351</td>\n",
       "      <td>169</td>\n",
       "      <td>364</td>\n",
       "      <td>364</td>\n",
       "    </tr>\n",
       "    <tr>\n",
       "      <th>unique</th>\n",
       "      <td>NaN</td>\n",
       "      <td>19</td>\n",
       "      <td>172</td>\n",
       "      <td>361</td>\n",
       "      <td>31</td>\n",
       "      <td>3</td>\n",
       "      <td>126</td>\n",
       "      <td>12</td>\n",
       "      <td>83</td>\n",
       "      <td>11</td>\n",
       "    </tr>\n",
       "    <tr>\n",
       "      <th>top</th>\n",
       "      <td>NaN</td>\n",
       "      <td>Centre Back</td>\n",
       "      <td>Ben Gibson</td>\n",
       "      <td>Dec 28, 1984 (24)</td>\n",
       "      <td>1,85 m</td>\n",
       "      <td>right</td>\n",
       "      <td>Jul 1, 2010</td>\n",
       "      <td>30.06.2020</td>\n",
       "      <td>-</td>\n",
       "      <td>0910</td>\n",
       "    </tr>\n",
       "    <tr>\n",
       "      <th>freq</th>\n",
       "      <td>NaN</td>\n",
       "      <td>53</td>\n",
       "      <td>9</td>\n",
       "      <td>2</td>\n",
       "      <td>50</td>\n",
       "      <td>199</td>\n",
       "      <td>31</td>\n",
       "      <td>28</td>\n",
       "      <td>34</td>\n",
       "      <td>47</td>\n",
       "    </tr>\n",
       "    <tr>\n",
       "      <th>mean</th>\n",
       "      <td>18.054054</td>\n",
       "      <td>NaN</td>\n",
       "      <td>NaN</td>\n",
       "      <td>NaN</td>\n",
       "      <td>NaN</td>\n",
       "      <td>NaN</td>\n",
       "      <td>NaN</td>\n",
       "      <td>NaN</td>\n",
       "      <td>NaN</td>\n",
       "      <td>NaN</td>\n",
       "    </tr>\n",
       "    <tr>\n",
       "      <th>std</th>\n",
       "      <td>11.018471</td>\n",
       "      <td>NaN</td>\n",
       "      <td>NaN</td>\n",
       "      <td>NaN</td>\n",
       "      <td>NaN</td>\n",
       "      <td>NaN</td>\n",
       "      <td>NaN</td>\n",
       "      <td>NaN</td>\n",
       "      <td>NaN</td>\n",
       "      <td>NaN</td>\n",
       "    </tr>\n",
       "    <tr>\n",
       "      <th>min</th>\n",
       "      <td>1.000000</td>\n",
       "      <td>NaN</td>\n",
       "      <td>NaN</td>\n",
       "      <td>NaN</td>\n",
       "      <td>NaN</td>\n",
       "      <td>NaN</td>\n",
       "      <td>NaN</td>\n",
       "      <td>NaN</td>\n",
       "      <td>NaN</td>\n",
       "      <td>NaN</td>\n",
       "    </tr>\n",
       "    <tr>\n",
       "      <th>25%</th>\n",
       "      <td>8.000000</td>\n",
       "      <td>NaN</td>\n",
       "      <td>NaN</td>\n",
       "      <td>NaN</td>\n",
       "      <td>NaN</td>\n",
       "      <td>NaN</td>\n",
       "      <td>NaN</td>\n",
       "      <td>NaN</td>\n",
       "      <td>NaN</td>\n",
       "      <td>NaN</td>\n",
       "    </tr>\n",
       "    <tr>\n",
       "      <th>50%</th>\n",
       "      <td>18.000000</td>\n",
       "      <td>NaN</td>\n",
       "      <td>NaN</td>\n",
       "      <td>NaN</td>\n",
       "      <td>NaN</td>\n",
       "      <td>NaN</td>\n",
       "      <td>NaN</td>\n",
       "      <td>NaN</td>\n",
       "      <td>NaN</td>\n",
       "      <td>NaN</td>\n",
       "    </tr>\n",
       "    <tr>\n",
       "      <th>75%</th>\n",
       "      <td>26.000000</td>\n",
       "      <td>NaN</td>\n",
       "      <td>NaN</td>\n",
       "      <td>NaN</td>\n",
       "      <td>NaN</td>\n",
       "      <td>NaN</td>\n",
       "      <td>NaN</td>\n",
       "      <td>NaN</td>\n",
       "      <td>NaN</td>\n",
       "      <td>NaN</td>\n",
       "    </tr>\n",
       "    <tr>\n",
       "      <th>max</th>\n",
       "      <td>42.000000</td>\n",
       "      <td>NaN</td>\n",
       "      <td>NaN</td>\n",
       "      <td>NaN</td>\n",
       "      <td>NaN</td>\n",
       "      <td>NaN</td>\n",
       "      <td>NaN</td>\n",
       "      <td>NaN</td>\n",
       "      <td>NaN</td>\n",
       "      <td>NaN</td>\n",
       "    </tr>\n",
       "  </tbody>\n",
       "</table>\n",
       "</div>"
      ],
      "text/plain": [
       "        Shirt number     Position        Name      Date of birth  Height  \\\n",
       "count     333.000000          364         364                364     364   \n",
       "unique           NaN           19         172                361      31   \n",
       "top              NaN  Centre Back  Ben Gibson  Dec 28, 1984 (24)  1,85 m   \n",
       "freq             NaN           53           9                  2      50   \n",
       "mean       18.054054          NaN         NaN                NaN     NaN   \n",
       "std        11.018471          NaN         NaN                NaN     NaN   \n",
       "min         1.000000          NaN         NaN                NaN     NaN   \n",
       "25%         8.000000          NaN         NaN                NaN     NaN   \n",
       "50%        18.000000          NaN         NaN                NaN     NaN   \n",
       "75%        26.000000          NaN         NaN                NaN     NaN   \n",
       "max        42.000000          NaN         NaN                NaN     NaN   \n",
       "\n",
       "         Foot       Joined Contract expires Market value Season  \n",
       "count     322          351              169          364    364  \n",
       "unique      3          126               12           83     11  \n",
       "top     right  Jul 1, 2010       30.06.2020           -    0910  \n",
       "freq      199           31               28           34     47  \n",
       "mean      NaN          NaN              NaN          NaN    NaN  \n",
       "std       NaN          NaN              NaN          NaN    NaN  \n",
       "min       NaN          NaN              NaN          NaN    NaN  \n",
       "25%       NaN          NaN              NaN          NaN    NaN  \n",
       "50%       NaN          NaN              NaN          NaN    NaN  \n",
       "75%       NaN          NaN              NaN          NaN    NaN  \n",
       "max       NaN          NaN              NaN          NaN    NaN  "
      ]
     },
     "execution_count": 102,
     "metadata": {},
     "output_type": "execute_result"
    }
   ],
   "source": [
    "tmk_df.describe(include=\"all\")"
   ]
  },
  {
   "cell_type": "code",
   "execution_count": 104,
   "metadata": {},
   "outputs": [
    {
     "data": {
      "text/plain": [
       "Centre Back           53\n",
       "Central Midfield      51\n",
       "Centre Forward        48\n",
       "Keeper                37\n",
       "Right-Back            29\n",
       "Left-Back             25\n",
       "Defensive Midfield    22\n",
       "Left Midfield         19\n",
       "Centre-Forward        15\n",
       "Centre-Back           15\n",
       "Right Wing            14\n",
       "Left Wing             12\n",
       "Attacking Midfield     9\n",
       "Goalkeeper             6\n",
       "Right Midfield         4\n",
       "Secondary Striker      2\n",
       "Mittelfeld             1\n",
       "Left Winger            1\n",
       "Right Winger           1\n",
       "Name: Position, dtype: int64"
      ]
     },
     "execution_count": 104,
     "metadata": {},
     "output_type": "execute_result"
    }
   ],
   "source": [
    "tmk_df.Position.value_counts()"
   ]
  },
  {
   "cell_type": "code",
   "execution_count": 103,
   "metadata": {},
   "outputs": [
    {
     "data": {
      "text/plain": [
       "right    199\n",
       "left     102\n",
       "both      21\n",
       "Name: Foot, dtype: int64"
      ]
     },
     "execution_count": 103,
     "metadata": {},
     "output_type": "execute_result"
    }
   ],
   "source": [
    "tmk_df.Foot.value_counts()"
   ]
  },
  {
   "cell_type": "code",
   "execution_count": 105,
   "metadata": {},
   "outputs": [
    {
     "data": {
      "text/plain": [
       "0910    47\n",
       "1011    41\n",
       "1415    40\n",
       "1213    39\n",
       "1314    37\n",
       "1112    36\n",
       "1516    28\n",
       "1617    27\n",
       "1920    24\n",
       "1819    23\n",
       "1718    22\n",
       "Name: Season, dtype: int64"
      ]
     },
     "execution_count": 105,
     "metadata": {},
     "output_type": "execute_result"
    }
   ],
   "source": [
    "tmk_df.Season.value_counts()"
   ]
  },
  {
   "cell_type": "code",
   "execution_count": 109,
   "metadata": {},
   "outputs": [
    {
     "data": {
      "text/plain": [
       "<matplotlib.axes._subplots.AxesSubplot at 0xc7613307f0>"
      ]
     },
     "execution_count": 109,
     "metadata": {},
     "output_type": "execute_result"
    },
    {
     "data": {
      "image/png": "[encoded data removed]",
      "text/plain": [
       "<Figure size 432x288 with 1 Axes>"
      ]
     },
     "metadata": {
      "needs_background": "light"
     },
     "output_type": "display_data"
    }
   ],
   "source": [
    "tmk_df[\"Shirt number\"].hist(bins=42)"
   ]
  },
  {
   "cell_type": "markdown",
   "metadata": {},
   "source": [
    "## 3. Data Preperation"
   ]
  },
  {
   "cell_type": "markdown",
   "metadata": {},
   "source": [
    "## 4. Modelling"
   ]
  },
  {
   "cell_type": "markdown",
   "metadata": {},
   "source": [
    "## 5. Evaluation"
   ]
  },
  {
   "cell_type": "markdown",
   "metadata": {},
   "source": [
    "## 6. Deployment"
   ]
  }
 ],
 "metadata": {
  "kernelspec": {
   "display_name": "Python 3",
   "language": "python",
   "name": "python3"
  },
  "language_info": {
   "codemirror_mode": {
    "name": "ipython",
    "version": 3
   },
   "file_extension": ".py",
   "mimetype": "text/x-python",
   "name": "python",
   "nbconvert_exporter": "python",
   "pygments_lexer": "ipython3",
   "version": "3.7.1"
  }
 },
 "nbformat": 4,
 "nbformat_minor": 4
}
