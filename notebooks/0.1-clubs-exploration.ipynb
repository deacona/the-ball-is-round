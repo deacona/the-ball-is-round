{
 "cells": [
  {
   "cell_type": "markdown",
   "metadata": {},
   "source": [
    "# First look at clubs dataset"
   ]
  },
  {
   "cell_type": "code",
   "execution_count": 2,
   "metadata": {
    "collapsed": false
   },
   "outputs": [],
   "source": [
    "import sys\n",
    "sys.path.insert(0, r'..\\src\\data')\n",
    "import ftb_clubs_wrangle as ftb\n",
    "import pandas as pd\n",
    "%matplotlib inline\n",
    "import matplotlib.pyplot as plt\n",
    "\n",
    "pd.set_option('display.max_columns', 500)\n",
    "pd.set_option('display.expand_frame_repr', False)"
   ]
  },
  {
   "cell_type": "code",
   "execution_count": 3,
   "metadata": {
    "collapsed": false
   },
   "outputs": [
    {
     "name": "stdout",
     "output_type": "stream",
     "text": [
      "Fetching C:\\Users\\adeacon\\Google Drive\\projects\\data\\master/ftb_fulldata.txt\n"
     ]
    },
    {
     "name": "stderr",
     "output_type": "stream",
     "text": [
      "C:\\Users\\adeacon\\Documents\\Anaconda\\lib\\site-packages\\IPython\\core\\interactiveshell.py:2821: DtypeWarning: Columns (20) have mixed types. Specify dtype option on import or set low_memory=False.\n",
      "  if self.run_code(code, result):\n"
     ]
    },
    {
     "name": "stdout",
     "output_type": "stream",
     "text": [
      "<class 'pandas.core.frame.DataFrame'>\n",
      "RangeIndex: 290074 entries, 0 to 290073\n",
      "Data columns (total 92 columns):\n",
      "Unnamed: 0               290074 non-null int64\n",
      "Attendance               9326 non-null float64\n",
      "BookingPoints            9330 non-null float64\n",
      "BookingPointsOpp         9330 non-null float64\n",
      "Corners                  110686 non-null float64\n",
      "CornersOpp               110686 non-null float64\n",
      "Country                  290074 non-null object\n",
      "Date                     290074 non-null object\n",
      "Div                      290074 non-null object\n",
      "Fouls                    109918 non-null float64\n",
      "FoulsOpp                 109918 non-null float64\n",
      "Goals                    290070 non-null float64\n",
      "Goals1stHalf             250396 non-null float64\n",
      "Goals1stHalfOpp          250396 non-null float64\n",
      "GoalsOpp                 290070 non-null float64\n",
      "HomeAway                 290074 non-null object\n",
      "Offsides                 9314 non-null float64\n",
      "OffsidesOpp              9314 non-null float64\n",
      "RedCards                 111937 non-null float64\n",
      "RedCardsOpp              111937 non-null float64\n",
      "Referee                  71912 non-null object\n",
      "Season                   290074 non-null object\n",
      "Shots                    111436 non-null float64\n",
      "ShotsHitWoodwork         9312 non-null float64\n",
      "ShotsHitWoodworkOpp      9312 non-null float64\n",
      "ShotsOnTarget            110212 non-null float64\n",
      "ShotsOnTargetOpp         110212 non-null float64\n",
      "ShotsOpp                 111436 non-null float64\n",
      "Team                     288270 non-null object\n",
      "TeamOpp                  288270 non-null object\n",
      "Tier                     290074 non-null int64\n",
      "YellowCards              111936 non-null float64\n",
      "YellowCardsOpp           111936 non-null float64\n",
      "GoalsDiff                290070 non-null float64\n",
      "TotalGoals               290070 non-null float64\n",
      "Goals1stHalfDiff         250396 non-null float64\n",
      "TotalGoals1stHalf        250396 non-null float64\n",
      "ShotsDiff                111436 non-null float64\n",
      "TotalShots               111436 non-null float64\n",
      "ShotsOnTargetDiff        110212 non-null float64\n",
      "TotalShotsOnTarget       110212 non-null float64\n",
      "ShotsHitWoodworkDiff     9312 non-null float64\n",
      "TotalShotsHitWoodwork    9312 non-null float64\n",
      "CornersDiff              110686 non-null float64\n",
      "TotalCorners             110686 non-null float64\n",
      "FoulsDiff                109918 non-null float64\n",
      "TotalFouls               109918 non-null float64\n",
      "OffsidesDiff             9314 non-null float64\n",
      "TotalOffsides            9314 non-null float64\n",
      "YellowCardsDiff          111934 non-null float64\n",
      "TotalYellowCards         111934 non-null float64\n",
      "RedCardsDiff             111936 non-null float64\n",
      "TotalRedCards            111936 non-null float64\n",
      "BookingPointsDiff        9330 non-null float64\n",
      "TotalBookingPoints       9330 non-null float64\n",
      "Saves                    110212 non-null float64\n",
      "SavesOpp                 110212 non-null float64\n",
      "SavesDiff                110212 non-null float64\n",
      "Goals2ndHalf             250396 non-null float64\n",
      "Goals2ndHalfOpp          250396 non-null float64\n",
      "Goals2ndHalfDiff         250396 non-null float64\n",
      "Result                   290074 non-null object\n",
      "Points                   290074 non-null int64\n",
      "PointsOpp                290074 non-null int64\n",
      "Win                      290074 non-null int64\n",
      "WinDraw                  290074 non-null int64\n",
      "Draw                     290074 non-null int64\n",
      "DrawLoss                 290074 non-null int64\n",
      "Loss                     290074 non-null int64\n",
      "WinShare                 290074 non-null float64\n",
      "CleanSheet               290074 non-null int64\n",
      "CleanSheetOpp            290074 non-null int64\n",
      "GameWeek                 290074 non-null int64\n",
      "City                     116007 non-null object\n",
      "Stadium                  127212 non-null object\n",
      "Capacity                 127212 non-null float64\n",
      "Latitude                 127212 non-null float64\n",
      "Longitude                127212 non-null float64\n",
      "Easting                  37604 non-null float64\n",
      "Northing                 37604 non-null float64\n",
      "Grid Reference           37604 non-null object\n",
      "CityOpp                  116007 non-null object\n",
      "StadiumOpp               127212 non-null object\n",
      "CapacityOpp              127212 non-null float64\n",
      "LatitudeOpp              127212 non-null float64\n",
      "LongitudeOpp             127212 non-null float64\n",
      "EastingOpp               37604 non-null float64\n",
      "NorthingOpp              37604 non-null float64\n",
      "Grid ReferenceOpp        37604 non-null object\n",
      "EuclideanDistance        96646 non-null float64\n",
      "Manager                  13763 non-null object\n",
      "ManagerOpp               13763 non-null object\n",
      "dtypes: float64(63), int64(12), object(17)\n",
      "memory usage: 203.6+ MB\n"
     ]
    }
   ],
   "source": [
    "fulldata = ftb.get_master(\"fulldata\")\n",
    "fulldata.info()"
   ]
  },
  {
   "cell_type": "code",
   "execution_count": 4,
   "metadata": {
    "collapsed": false
   },
   "outputs": [
    {
     "data": {
      "text/plain": [
       "Home    145037\n",
       "Away    145037\n",
       "Name: HomeAway, dtype: int64"
      ]
     },
     "execution_count": 4,
     "metadata": {},
     "output_type": "execute_result"
    }
   ],
   "source": [
    "fulldata.HomeAway.value_counts()"
   ]
  },
  {
   "cell_type": "markdown",
   "metadata": {},
   "source": [
    "Note this dataset double counts matches because each match will occur as \"Home\" and \"Away\" entries."
   ]
  },
  {
   "cell_type": "code",
   "execution_count": 5,
   "metadata": {
    "collapsed": false
   },
   "outputs": [
    {
     "data": {
      "text/html": [
       "<div>\n",
       "<table border=\"1\" class=\"dataframe\">\n",
       "  <thead>\n",
       "    <tr style=\"text-align: right;\">\n",
       "      <th>Country</th>\n",
       "      <th>Belgium</th>\n",
       "      <th>England</th>\n",
       "      <th>France</th>\n",
       "      <th>Germany</th>\n",
       "      <th>Greece</th>\n",
       "      <th>Holland</th>\n",
       "      <th>Italy</th>\n",
       "      <th>Portugal</th>\n",
       "      <th>Scotland</th>\n",
       "      <th>Spain</th>\n",
       "      <th>Turkey</th>\n",
       "      <th>All</th>\n",
       "    </tr>\n",
       "    <tr>\n",
       "      <th>Season</th>\n",
       "      <th></th>\n",
       "      <th></th>\n",
       "      <th></th>\n",
       "      <th></th>\n",
       "      <th></th>\n",
       "      <th></th>\n",
       "      <th></th>\n",
       "      <th></th>\n",
       "      <th></th>\n",
       "      <th></th>\n",
       "      <th></th>\n",
       "      <th></th>\n",
       "    </tr>\n",
       "  </thead>\n",
       "  <tbody>\n",
       "    <tr>\n",
       "      <th>1993-1994</th>\n",
       "      <td>0</td>\n",
       "      <td>2372</td>\n",
       "      <td>760</td>\n",
       "      <td>1372</td>\n",
       "      <td>0</td>\n",
       "      <td>612</td>\n",
       "      <td>612</td>\n",
       "      <td>0</td>\n",
       "      <td>0</td>\n",
       "      <td>760</td>\n",
       "      <td>0</td>\n",
       "      <td>6488</td>\n",
       "    </tr>\n",
       "    <tr>\n",
       "      <th>1994-1995</th>\n",
       "      <td>0</td>\n",
       "      <td>2516</td>\n",
       "      <td>760</td>\n",
       "      <td>1224</td>\n",
       "      <td>612</td>\n",
       "      <td>612</td>\n",
       "      <td>612</td>\n",
       "      <td>612</td>\n",
       "      <td>720</td>\n",
       "      <td>760</td>\n",
       "      <td>612</td>\n",
       "      <td>9040</td>\n",
       "    </tr>\n",
       "    <tr>\n",
       "      <th>1995-1996</th>\n",
       "      <td>612</td>\n",
       "      <td>2368</td>\n",
       "      <td>760</td>\n",
       "      <td>1224</td>\n",
       "      <td>612</td>\n",
       "      <td>612</td>\n",
       "      <td>612</td>\n",
       "      <td>612</td>\n",
       "      <td>720</td>\n",
       "      <td>924</td>\n",
       "      <td>612</td>\n",
       "      <td>9668</td>\n",
       "    </tr>\n",
       "    <tr>\n",
       "      <th>1996-1997</th>\n",
       "      <td>612</td>\n",
       "      <td>2314</td>\n",
       "      <td>1684</td>\n",
       "      <td>1224</td>\n",
       "      <td>612</td>\n",
       "      <td>612</td>\n",
       "      <td>612</td>\n",
       "      <td>612</td>\n",
       "      <td>720</td>\n",
       "      <td>1684</td>\n",
       "      <td>612</td>\n",
       "      <td>11298</td>\n",
       "    </tr>\n",
       "    <tr>\n",
       "      <th>1997-1998</th>\n",
       "      <td>612</td>\n",
       "      <td>2338</td>\n",
       "      <td>1536</td>\n",
       "      <td>1224</td>\n",
       "      <td>612</td>\n",
       "      <td>612</td>\n",
       "      <td>1372</td>\n",
       "      <td>612</td>\n",
       "      <td>1440</td>\n",
       "      <td>1684</td>\n",
       "      <td>612</td>\n",
       "      <td>12654</td>\n",
       "    </tr>\n",
       "    <tr>\n",
       "      <th>1998-1999</th>\n",
       "      <td>612</td>\n",
       "      <td>2264</td>\n",
       "      <td>1372</td>\n",
       "      <td>1224</td>\n",
       "      <td>612</td>\n",
       "      <td>612</td>\n",
       "      <td>1372</td>\n",
       "      <td>612</td>\n",
       "      <td>1440</td>\n",
       "      <td>1684</td>\n",
       "      <td>612</td>\n",
       "      <td>12416</td>\n",
       "    </tr>\n",
       "    <tr>\n",
       "      <th>1999-2000</th>\n",
       "      <td>612</td>\n",
       "      <td>2272</td>\n",
       "      <td>1372</td>\n",
       "      <td>1224</td>\n",
       "      <td>612</td>\n",
       "      <td>612</td>\n",
       "      <td>1372</td>\n",
       "      <td>612</td>\n",
       "      <td>1440</td>\n",
       "      <td>1684</td>\n",
       "      <td>612</td>\n",
       "      <td>12424</td>\n",
       "    </tr>\n",
       "    <tr>\n",
       "      <th>2000-2001</th>\n",
       "      <td>612</td>\n",
       "      <td>3126</td>\n",
       "      <td>1372</td>\n",
       "      <td>0</td>\n",
       "      <td>480</td>\n",
       "      <td>612</td>\n",
       "      <td>1372</td>\n",
       "      <td>612</td>\n",
       "      <td>1536</td>\n",
       "      <td>1684</td>\n",
       "      <td>612</td>\n",
       "      <td>12018</td>\n",
       "    </tr>\n",
       "    <tr>\n",
       "      <th>2001-2002</th>\n",
       "      <td>612</td>\n",
       "      <td>3138</td>\n",
       "      <td>612</td>\n",
       "      <td>0</td>\n",
       "      <td>364</td>\n",
       "      <td>612</td>\n",
       "      <td>612</td>\n",
       "      <td>612</td>\n",
       "      <td>1536</td>\n",
       "      <td>760</td>\n",
       "      <td>612</td>\n",
       "      <td>9470</td>\n",
       "    </tr>\n",
       "    <tr>\n",
       "      <th>2002-2003</th>\n",
       "      <td>0</td>\n",
       "      <td>0</td>\n",
       "      <td>0</td>\n",
       "      <td>0</td>\n",
       "      <td>480</td>\n",
       "      <td>0</td>\n",
       "      <td>612</td>\n",
       "      <td>0</td>\n",
       "      <td>0</td>\n",
       "      <td>760</td>\n",
       "      <td>0</td>\n",
       "      <td>1852</td>\n",
       "    </tr>\n",
       "    <tr>\n",
       "      <th>2003-2004</th>\n",
       "      <td>612</td>\n",
       "      <td>838</td>\n",
       "      <td>0</td>\n",
       "      <td>0</td>\n",
       "      <td>480</td>\n",
       "      <td>612</td>\n",
       "      <td>0</td>\n",
       "      <td>0</td>\n",
       "      <td>720</td>\n",
       "      <td>760</td>\n",
       "      <td>612</td>\n",
       "      <td>4634</td>\n",
       "    </tr>\n",
       "    <tr>\n",
       "      <th>2004-2005</th>\n",
       "      <td>0</td>\n",
       "      <td>0</td>\n",
       "      <td>1520</td>\n",
       "      <td>612</td>\n",
       "      <td>0</td>\n",
       "      <td>0</td>\n",
       "      <td>0</td>\n",
       "      <td>612</td>\n",
       "      <td>360</td>\n",
       "      <td>0</td>\n",
       "      <td>612</td>\n",
       "      <td>3716</td>\n",
       "    </tr>\n",
       "    <tr>\n",
       "      <th>2005-2006</th>\n",
       "      <td>612</td>\n",
       "      <td>4582</td>\n",
       "      <td>1520</td>\n",
       "      <td>1224</td>\n",
       "      <td>480</td>\n",
       "      <td>612</td>\n",
       "      <td>1684</td>\n",
       "      <td>612</td>\n",
       "      <td>1536</td>\n",
       "      <td>1684</td>\n",
       "      <td>612</td>\n",
       "      <td>15158</td>\n",
       "    </tr>\n",
       "    <tr>\n",
       "      <th>2006-2007</th>\n",
       "      <td>612</td>\n",
       "      <td>4888</td>\n",
       "      <td>1520</td>\n",
       "      <td>1224</td>\n",
       "      <td>480</td>\n",
       "      <td>612</td>\n",
       "      <td>1684</td>\n",
       "      <td>480</td>\n",
       "      <td>1536</td>\n",
       "      <td>1684</td>\n",
       "      <td>0</td>\n",
       "      <td>14720</td>\n",
       "    </tr>\n",
       "    <tr>\n",
       "      <th>2007-2008</th>\n",
       "      <td>612</td>\n",
       "      <td>4964</td>\n",
       "      <td>760</td>\n",
       "      <td>1224</td>\n",
       "      <td>480</td>\n",
       "      <td>0</td>\n",
       "      <td>1684</td>\n",
       "      <td>0</td>\n",
       "      <td>1536</td>\n",
       "      <td>760</td>\n",
       "      <td>612</td>\n",
       "      <td>12632</td>\n",
       "    </tr>\n",
       "    <tr>\n",
       "      <th>2008-2009</th>\n",
       "      <td>612</td>\n",
       "      <td>4988</td>\n",
       "      <td>1520</td>\n",
       "      <td>1224</td>\n",
       "      <td>480</td>\n",
       "      <td>612</td>\n",
       "      <td>1684</td>\n",
       "      <td>480</td>\n",
       "      <td>1536</td>\n",
       "      <td>1684</td>\n",
       "      <td>612</td>\n",
       "      <td>15432</td>\n",
       "    </tr>\n",
       "    <tr>\n",
       "      <th>2009-2010</th>\n",
       "      <td>420</td>\n",
       "      <td>4808</td>\n",
       "      <td>1520</td>\n",
       "      <td>1224</td>\n",
       "      <td>480</td>\n",
       "      <td>612</td>\n",
       "      <td>1684</td>\n",
       "      <td>480</td>\n",
       "      <td>1536</td>\n",
       "      <td>1684</td>\n",
       "      <td>544</td>\n",
       "      <td>14992</td>\n",
       "    </tr>\n",
       "    <tr>\n",
       "      <th>2010-2011</th>\n",
       "      <td>480</td>\n",
       "      <td>4986</td>\n",
       "      <td>1520</td>\n",
       "      <td>1224</td>\n",
       "      <td>480</td>\n",
       "      <td>612</td>\n",
       "      <td>1684</td>\n",
       "      <td>480</td>\n",
       "      <td>1536</td>\n",
       "      <td>1684</td>\n",
       "      <td>612</td>\n",
       "      <td>15298</td>\n",
       "    </tr>\n",
       "    <tr>\n",
       "      <th>2011-2012</th>\n",
       "      <td>480</td>\n",
       "      <td>4956</td>\n",
       "      <td>1520</td>\n",
       "      <td>1224</td>\n",
       "      <td>480</td>\n",
       "      <td>612</td>\n",
       "      <td>1684</td>\n",
       "      <td>480</td>\n",
       "      <td>1536</td>\n",
       "      <td>1684</td>\n",
       "      <td>612</td>\n",
       "      <td>15268</td>\n",
       "    </tr>\n",
       "    <tr>\n",
       "      <th>2012-2013</th>\n",
       "      <td>480</td>\n",
       "      <td>5002</td>\n",
       "      <td>1520</td>\n",
       "      <td>1224</td>\n",
       "      <td>480</td>\n",
       "      <td>612</td>\n",
       "      <td>1684</td>\n",
       "      <td>480</td>\n",
       "      <td>1536</td>\n",
       "      <td>1684</td>\n",
       "      <td>612</td>\n",
       "      <td>15314</td>\n",
       "    </tr>\n",
       "    <tr>\n",
       "      <th>2013-2014</th>\n",
       "      <td>480</td>\n",
       "      <td>5022</td>\n",
       "      <td>1520</td>\n",
       "      <td>1224</td>\n",
       "      <td>612</td>\n",
       "      <td>612</td>\n",
       "      <td>1684</td>\n",
       "      <td>480</td>\n",
       "      <td>1536</td>\n",
       "      <td>1684</td>\n",
       "      <td>612</td>\n",
       "      <td>15466</td>\n",
       "    </tr>\n",
       "    <tr>\n",
       "      <th>2014-2015</th>\n",
       "      <td>480</td>\n",
       "      <td>4930</td>\n",
       "      <td>1520</td>\n",
       "      <td>1224</td>\n",
       "      <td>612</td>\n",
       "      <td>612</td>\n",
       "      <td>1684</td>\n",
       "      <td>612</td>\n",
       "      <td>1536</td>\n",
       "      <td>1684</td>\n",
       "      <td>612</td>\n",
       "      <td>15506</td>\n",
       "    </tr>\n",
       "    <tr>\n",
       "      <th>2015-2016</th>\n",
       "      <td>480</td>\n",
       "      <td>4776</td>\n",
       "      <td>1520</td>\n",
       "      <td>1224</td>\n",
       "      <td>480</td>\n",
       "      <td>612</td>\n",
       "      <td>1684</td>\n",
       "      <td>612</td>\n",
       "      <td>1536</td>\n",
       "      <td>1684</td>\n",
       "      <td>612</td>\n",
       "      <td>15220</td>\n",
       "    </tr>\n",
       "    <tr>\n",
       "      <th>2016-2017</th>\n",
       "      <td>480</td>\n",
       "      <td>3722</td>\n",
       "      <td>1520</td>\n",
       "      <td>1224</td>\n",
       "      <td>480</td>\n",
       "      <td>612</td>\n",
       "      <td>1684</td>\n",
       "      <td>612</td>\n",
       "      <td>1536</td>\n",
       "      <td>1684</td>\n",
       "      <td>612</td>\n",
       "      <td>14166</td>\n",
       "    </tr>\n",
       "    <tr>\n",
       "      <th>2017-2018</th>\n",
       "      <td>224</td>\n",
       "      <td>1706</td>\n",
       "      <td>518</td>\n",
       "      <td>432</td>\n",
       "      <td>160</td>\n",
       "      <td>198</td>\n",
       "      <td>544</td>\n",
       "      <td>198</td>\n",
       "      <td>518</td>\n",
       "      <td>528</td>\n",
       "      <td>198</td>\n",
       "      <td>5224</td>\n",
       "    </tr>\n",
       "    <tr>\n",
       "      <th>All</th>\n",
       "      <td>11348</td>\n",
       "      <td>82876</td>\n",
       "      <td>29746</td>\n",
       "      <td>24448</td>\n",
       "      <td>11660</td>\n",
       "      <td>13050</td>\n",
       "      <td>29912</td>\n",
       "      <td>11514</td>\n",
       "      <td>29582</td>\n",
       "      <td>32956</td>\n",
       "      <td>12982</td>\n",
       "      <td>290074</td>\n",
       "    </tr>\n",
       "  </tbody>\n",
       "</table>\n",
       "</div>"
      ],
      "text/plain": [
       "Country    Belgium  England  France  Germany  Greece  Holland  Italy  Portugal  Scotland  Spain  Turkey     All\n",
       "Season                                                                                                         \n",
       "1993-1994        0     2372     760     1372       0      612    612         0         0    760       0    6488\n",
       "1994-1995        0     2516     760     1224     612      612    612       612       720    760     612    9040\n",
       "1995-1996      612     2368     760     1224     612      612    612       612       720    924     612    9668\n",
       "1996-1997      612     2314    1684     1224     612      612    612       612       720   1684     612   11298\n",
       "1997-1998      612     2338    1536     1224     612      612   1372       612      1440   1684     612   12654\n",
       "1998-1999      612     2264    1372     1224     612      612   1372       612      1440   1684     612   12416\n",
       "1999-2000      612     2272    1372     1224     612      612   1372       612      1440   1684     612   12424\n",
       "2000-2001      612     3126    1372        0     480      612   1372       612      1536   1684     612   12018\n",
       "2001-2002      612     3138     612        0     364      612    612       612      1536    760     612    9470\n",
       "2002-2003        0        0       0        0     480        0    612         0         0    760       0    1852\n",
       "2003-2004      612      838       0        0     480      612      0         0       720    760     612    4634\n",
       "2004-2005        0        0    1520      612       0        0      0       612       360      0     612    3716\n",
       "2005-2006      612     4582    1520     1224     480      612   1684       612      1536   1684     612   15158\n",
       "2006-2007      612     4888    1520     1224     480      612   1684       480      1536   1684       0   14720\n",
       "2007-2008      612     4964     760     1224     480        0   1684         0      1536    760     612   12632\n",
       "2008-2009      612     4988    1520     1224     480      612   1684       480      1536   1684     612   15432\n",
       "2009-2010      420     4808    1520     1224     480      612   1684       480      1536   1684     544   14992\n",
       "2010-2011      480     4986    1520     1224     480      612   1684       480      1536   1684     612   15298\n",
       "2011-2012      480     4956    1520     1224     480      612   1684       480      1536   1684     612   15268\n",
       "2012-2013      480     5002    1520     1224     480      612   1684       480      1536   1684     612   15314\n",
       "2013-2014      480     5022    1520     1224     612      612   1684       480      1536   1684     612   15466\n",
       "2014-2015      480     4930    1520     1224     612      612   1684       612      1536   1684     612   15506\n",
       "2015-2016      480     4776    1520     1224     480      612   1684       612      1536   1684     612   15220\n",
       "2016-2017      480     3722    1520     1224     480      612   1684       612      1536   1684     612   14166\n",
       "2017-2018      224     1706     518      432     160      198    544       198       518    528     198    5224\n",
       "All          11348    82876   29746    24448   11660    13050  29912     11514     29582  32956   12982  290074"
      ]
     },
     "execution_count": 5,
     "metadata": {},
     "output_type": "execute_result"
    }
   ],
   "source": [
    "pd.crosstab(fulldata.Season, fulldata.Country, margins=True)"
   ]
  },
  {
   "cell_type": "markdown",
   "metadata": {},
   "source": [
    "So we clearly have some incomplete data - particularly for early 2000s.\n",
    "\n",
    "Also the English data has far too volatile count. I suspect my pre-processing is re-arranging the data in unexpected days.\n",
    "\n",
    "Let's make a note to investigate those issues but carry on with our initial analysis..."
   ]
  },
  {
   "cell_type": "code",
   "execution_count": 26,
   "metadata": {
    "collapsed": false
   },
   "outputs": [
    {
     "data": {
      "text/plain": [
       "array([[<matplotlib.axes._subplots.AxesSubplot object at 0x0000000010A5C320>,\n",
       "        <matplotlib.axes._subplots.AxesSubplot object at 0x0000000011460C18>]], dtype=object)"
      ]
     },
     "execution_count": 26,
     "metadata": {},
     "output_type": "execute_result"
    },
    {
     "data": {
      "text/plain": [
       "<matplotlib.figure.Figure at 0x14d2e940>"
      ]
     },
     "metadata": {},
     "output_type": "display_data"
    },
    {
     "data": {
      "image/png": "[encoded data removed]",
      "text/plain": [
       "<matplotlib.figure.Figure at 0x109cdf28>"
      ]
     },
     "metadata": {},
     "output_type": "display_data"
    },
    {
     "data": {
      "image/png": "[encoded data removed]",
      "text/plain": [
       "<matplotlib.figure.Figure at 0x109df5c0>"
      ]
     },
     "metadata": {},
     "output_type": "display_data"
    }
   ],
   "source": [
    "plt.figure();\n",
    "fulldata.hist(column=[\"TotalGoals\", \"TotalYellowCards\", \"TotalRedCards\"], bins=range(10))\n",
    "fulldata.hist(column=[\"TotalShots\", \"TotalCorners\"], bins=range(50))\n",
    "# fulldata.hist(column=[\"TotalRedCards\"], bins=range(10))"
   ]
  },
  {
   "cell_type": "code",
   "execution_count": 30,
   "metadata": {
    "collapsed": false
   },
   "outputs": [
    {
     "data": {
      "text/plain": [
       "Win     0.457456\n",
       "Loss    0.274613\n",
       "Draw    0.267932\n",
       "Name: Result, dtype: float64"
      ]
     },
     "execution_count": 30,
     "metadata": {},
     "output_type": "execute_result"
    }
   ],
   "source": [
    "fulldata[fulldata.HomeAway==\"Home\"].Result.value_counts(normalize=True)"
   ]
  },
  {
   "cell_type": "markdown",
   "metadata": {},
   "source": [
    "## Spot checks on Ajax"
   ]
  },
  {
   "cell_type": "markdown",
   "metadata": {},
   "source": [
    "Let's take Ajax as an example and check that their season performances do match those here https://en.wikipedia.org/wiki/List_of_AFC_Ajax_seasons"
   ]
  },
  {
   "cell_type": "code",
   "execution_count": 35,
   "metadata": {
    "collapsed": false
   },
   "outputs": [
    {
     "name": "stdout",
     "output_type": "stream",
     "text": [
      "Fetching C:\\Users\\adeacon\\Google Drive\\projects\\data\\master/ftb_fulldata.txt\n",
      "           NumberOfMatches  Win  Draw  Loss  Goals  GoalsOpp  GoalsDiff  Points\n",
      "1993-1994               34   26     2     6   86.0      26.0       60.0      80\n",
      "1994-1995               34   27     7     0  106.0      28.0       78.0      88\n",
      "1995-1996               34   26     5     3   97.0      24.0       73.0      83\n",
      "1996-1997               34   17    10     7   55.0      31.0       24.0      61\n",
      "1997-1998               34   29     2     3  112.0      22.0       90.0      89\n",
      "1998-1999               34   16     9     9   73.0      41.0       32.0      57\n",
      "1999-2000               34   18     7     9   72.0      51.0       21.0      61\n",
      "2000-2001               34   18     7     9   85.0      43.0       42.0      61\n",
      "2001-2002               34   22     7     5   73.0      34.0       39.0      73\n",
      "2003-2004               34   25     5     4   79.0      31.0       48.0      80\n",
      "2005-2006               34   18     6    10   66.0      41.0       25.0      60\n",
      "2006-2007               34   23     6     5   84.0      35.0       49.0      75\n",
      "2008-2009               34   21     5     8   74.0      41.0       33.0      68\n",
      "2009-2010               34   27     4     3  106.0      20.0       86.0      85\n",
      "2010-2011               33   21     7     5   69.0      29.0       40.0      70\n",
      "2011-2012               34   23     7     4   93.0      36.0       57.0      76\n",
      "2012-2013               34   22    10     2   83.0      31.0       52.0      76\n",
      "2013-2014               34   20    11     3   69.0      28.0       41.0      71\n",
      "2014-2015               34   21     8     5   69.0      29.0       40.0      71\n",
      "2015-2016               34   25     7     2   81.0      21.0       60.0      82\n",
      "2016-2017               34   25     6     3   79.0      23.0       56.0      81\n",
      "2017-2018               11    7     1     3   27.0      10.0       17.0      22\n"
     ]
    }
   ],
   "source": [
    "group_key = \"Season\"\n",
    "base_filters = {\n",
    "        \"Team\": [\"Ajax\"]\n",
    "        }\n",
    "output_metrics = [\n",
    "        \"NumberOfMatches\",\n",
    "        \"Win\", \"Draw\", \"Loss\",\n",
    "        \"Goals\", \"GoalsOpp\", \n",
    "        ]\n",
    "ajax = ftb.get_summary(group_key, df=None, base_filters=base_filters, \n",
    "                       output_metrics=output_metrics, agg_method=sum)\n",
    "print ajax"
   ]
  },
  {
   "cell_type": "markdown",
   "metadata": {},
   "source": [
    "So (pretty much it all matches up. Missing seasons are 2002-2003, 2004-2005, 2007-2008. Also curiously we're missing one game from 2010-2011 - a 3-1 win?"
   ]
  },
  {
   "cell_type": "markdown",
   "metadata": {},
   "source": [
    "## Spot checks on Frankfurt"
   ]
  },
  {
   "cell_type": "markdown",
   "metadata": {},
   "source": [
    "Let's take Eintracht Frankfurt as a second example and check them out versus https://en.wikipedia.org/wiki/List_of_Eintracht_Frankfurt_seasons"
   ]
  },
  {
   "cell_type": "code",
   "execution_count": 44,
   "metadata": {
    "collapsed": false
   },
   "outputs": [
    {
     "name": "stdout",
     "output_type": "stream",
     "text": [
      "           NumberOfMatches  Win  Draw  Loss  Goals  GoalsOpp\n",
      "1993-1994               34   15     8    11   57.0      41.0\n",
      "1994-1995               34   12     9    13   41.0      49.0\n",
      "1995-1996               34    7    11    16   43.0      68.0\n",
      "1996-1997               34   13     9    12   43.0      46.0\n",
      "1997-1998               34   17    13     4   50.0      32.0\n",
      "1998-1999               34    9    10    15   44.0      54.0\n",
      "1999-2000               34   12     5    17   42.0      44.0\n",
      "2005-2006               34    9     9    16   42.0      51.0\n",
      "2006-2007               34    9    13    12   46.0      58.0\n",
      "2007-2008               34   12    10    12   43.0      50.0\n",
      "2008-2009               34    8     9    17   39.0      60.0\n",
      "2009-2010               34   12    10    12   47.0      54.0\n",
      "2010-2011               34    9     7    18   31.0      49.0\n",
      "2011-2012               34   20     8     6   76.0      33.0\n",
      "2012-2013               34   14     9    11   49.0      46.0\n",
      "2013-2014               34    9     9    16   40.0      57.0\n",
      "2014-2015               34   11    10    13   56.0      62.0\n",
      "2015-2016               34    9     9    16   34.0      52.0\n",
      "2016-2017               34   11     9    14   36.0      43.0\n",
      "2017-2018               11    5     3     3   13.0      11.0\n"
     ]
    }
   ],
   "source": [
    "group_key = \"Season\"\n",
    "base_filters = {\n",
    "        \"Team\": [\"Ein Frankfurt\"]\n",
    "        }\n",
    "output_metrics = [\n",
    "        \"NumberOfMatches\",\n",
    "        \"Win\", \"Draw\", \"Loss\",\n",
    "        \"Goals\", \"GoalsOpp\", \n",
    "        ]\n",
    "frankfurt = ftb.get_summary(group_key, df=fulldata.copy(), base_filters=base_filters, \n",
    "                       output_metrics=output_metrics, agg_method=sum)\n",
    "print frankfurt"
   ]
  },
  {
   "cell_type": "markdown",
   "metadata": {},
   "source": [
    "Again, it's mostly spot-on. This time missing years are 2000-2001, 2001-2002, 2002-2003, 2003-2004, 2004-2005, and in 2010-2011 we have 3 extra goals conceded appearing!"
   ]
  },
  {
   "cell_type": "markdown",
   "metadata": {},
   "source": [
    "## Mapping the data"
   ]
  },
  {
   "cell_type": "code",
   "execution_count": 57,
   "metadata": {
    "collapsed": false
   },
   "outputs": [
    {
     "data": {
      "text/plain": [
       "<seaborn.axisgrid.FacetGrid at 0x1adbf518>"
      ]
     },
     "execution_count": 57,
     "metadata": {},
     "output_type": "execute_result"
    },
    {
     "data": {
      "image/png": "[encoded data removed]",
      "text/plain": [
       "<matplotlib.figure.Figure at 0x1b619898>"
      ]
     },
     "metadata": {},
     "output_type": "display_data"
    }
   ],
   "source": [
    "from  matplotlib import pyplot\n",
    "import seaborn\n",
    "seaborn.set(style='ticks')\n",
    "\n",
    "mapdata=fulldata.dropna(subset=['Latitude', 'Longitude'])\n",
    "# mapdata.info()\n",
    "fg = seaborn.FacetGrid(data=mapdata, hue='Country', aspect=1.)\n",
    "fg.map(pyplot.scatter, 'Longitude', 'Latitude').add_legend()"
   ]
  }
 ],
 "metadata": {
  "kernelspec": {
   "display_name": "Python 2",
   "language": "python",
   "name": "python2"
  },
  "language_info": {
   "codemirror_mode": {
    "name": "ipython",
    "version": 2
   },
   "file_extension": ".py",
   "mimetype": "text/x-python",
   "name": "python",
   "nbconvert_exporter": "python",
   "pygments_lexer": "ipython2",
   "version": "2.7.13"
  }
 },
 "nbformat": 4,
 "nbformat_minor": 2
}
