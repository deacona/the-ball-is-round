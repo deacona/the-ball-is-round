{
 "cells": [
  {
   "cell_type": "code",
   "execution_count": 3,
   "metadata": {},
   "outputs": [
    {
     "name": "stdout",
     "output_type": "stream",
     "text": [
      "^C\n"
     ]
    }
   ],
   "source": [
    "!conda install -c anaconda configparser"
   ]
  },
  {
   "cell_type": "code",
   "execution_count": 4,
   "metadata": {},
   "outputs": [
    {
     "name": "stdout",
     "output_type": "stream",
     "text": [
      "# packages in environment at C:\\Users\\adeacon\\AppData\\Local\\Continuum\\miniconda3\\envs\\tbir:\n",
      "#\n",
      "# Name                    Version                   Build  Channel\n",
      "atomicwrites              1.4.0                      py_0  \n",
      "attrs                     19.3.0                     py_0  \n",
      "backcall                  0.1.0                    py38_0  \n",
      "beautifulsoup4            4.9.0                    py38_0  \n",
      "blas                      1.0                         mkl  \n",
      "bleach                    3.1.4                      py_0  \n",
      "ca-certificates           2020.1.1                      0  \n",
      "certifi                   2020.4.5.1               py38_0  \n",
      "cffi                      1.14.0           py38h7a1dbc1_0  \n",
      "chardet                   3.0.4                 py38_1003  \n",
      "colorama                  0.4.3                      py_0  \n",
      "cryptography              2.9.2            py38h7a1dbc1_0  \n",
      "cycler                    0.10.0                   py38_0  \n",
      "decorator                 4.4.2                      py_0  \n",
      "defusedxml                0.6.0                      py_0  \n",
      "entrypoints               0.3                      py38_0  \n",
      "freetype                  2.9.1                ha9979f8_1  \n",
      "icc_rt                    2019.0.0             h0cc432a_1  \n",
      "icu                       58.2             vc14hc45fdbb_0  [vc14]  anaconda\n",
      "idna                      2.9                        py_1  \n",
      "importlib_metadata        1.5.0                    py38_0  \n",
      "intel-openmp              2020.1                      216  \n",
      "ipykernel                 5.1.4            py38h39e3cac_0  \n",
      "ipython                   7.13.0           py38h5ca1d4c_0  \n",
      "ipython_genutils          0.2.0                    py38_0  \n",
      "jedi                      0.17.0                   py38_0  \n",
      "jinja2                    2.11.2                     py_0  \n",
      "joblib                    0.15.1                     py_0  \n",
      "jpeg                      9b               vc14h4d7706e_1  [vc14]  anaconda\n",
      "json5                     0.9.4                      py_0  \n",
      "jsonschema                3.2.0                    py38_0  \n",
      "jupyter_client            6.1.3                      py_0  \n",
      "jupyter_core              4.6.3                    py38_0  \n",
      "jupyterlab                1.2.6              pyhf63ae98_0  \n",
      "jupyterlab_server         1.1.4                      py_0  \n",
      "kiwisolver                1.2.0            py38h74a9793_0  \n",
      "libpng                    1.6.37               h2a8f88b_0  \n",
      "libsodium                 1.0.16               h9d3ae62_0  \n",
      "m2w64-gcc-libgfortran     5.3.0                         6  \n",
      "m2w64-gcc-libs            5.3.0                         7  \n",
      "m2w64-gcc-libs-core       5.3.0                         7  \n",
      "m2w64-gmp                 6.1.0                         2  \n",
      "m2w64-libwinpthread-git   5.0.0.4634.697f757               2  \n",
      "markupsafe                1.1.1            py38he774522_0  \n",
      "matplotlib                3.1.3                    py38_0  \n",
      "matplotlib-base           3.1.3            py38h64f37c6_0  \n",
      "mistune                   0.8.4           py38he774522_1000  \n",
      "mkl                       2020.1                      216  \n",
      "mkl-service               2.3.0            py38hb782905_0  \n",
      "mkl_fft                   1.0.15           py38h14836fe_0  \n",
      "mkl_random                1.1.0            py38hf9181ef_0  \n",
      "more-itertools            8.3.0                      py_0  \n",
      "msys2-conda-epoch         20160418                      1  \n",
      "nbconvert                 5.6.1                    py38_0  \n",
      "nbformat                  5.0.6                      py_0  \n",
      "notebook                  6.0.3                    py38_0  \n",
      "numpy                     1.18.1           py38h93ca92e_0  \n",
      "numpy-base                1.18.1           py38hc3f5095_1  \n",
      "openssl                   1.1.1g               he774522_0  \n",
      "packaging                 20.3                       py_0  \n",
      "pandas                    1.0.3            py38h47e9c7a_0  \n",
      "pandoc                    2.2.3.2                       0  \n",
      "pandocfilters             1.4.2                    py38_1  \n",
      "parso                     0.7.0                      py_0  \n",
      "pickleshare               0.7.5                 py38_1000  \n",
      "pip                       20.0.2                   py38_3  \n",
      "pluggy                    0.13.1                   py38_0  \n",
      "prometheus_client         0.7.1                      py_0  \n",
      "prompt-toolkit            3.0.4                      py_0  \n",
      "prompt_toolkit            3.0.4                         0  \n",
      "py                        1.8.1                      py_0  \n",
      "pycparser                 2.20                       py_0  \n",
      "pygments                  2.6.1                      py_0  \n",
      "pyopenssl                 19.1.0                   py38_0  \n",
      "pyparsing                 2.4.7                      py_0  \n",
      "pyqt                      5.9.2            py38ha925a31_4  \n",
      "pyrsistent                0.16.0           py38he774522_0  \n",
      "pysocks                   1.7.1                    py38_0  \n",
      "pytest                    5.4.2                    py38_0  \n",
      "python                    3.8.3                he1778fa_0  \n",
      "python-dateutil           2.8.1                      py_0  \n",
      "pytz                      2020.1                     py_0  \n",
      "pywin32                   227              py38he774522_1  \n",
      "pywinpty                  0.5.7                    py38_0  \n",
      "pyzmq                     18.1.1           py38ha925a31_0  \n",
      "qt                        5.9.7            vc14h73c81de_0  [vc14]  anaconda\n",
      "requests                  2.23.0                   py38_0  \n",
      "scikit-learn              0.22.1           py38h6288b17_0  \n",
      "scipy                     1.4.1            py38h9439919_0  \n",
      "seaborn                   0.10.1                     py_0  \n",
      "send2trash                1.5.0                    py38_0  \n",
      "setuptools                46.4.0                   py38_0  \n",
      "sip                       4.19.13          py38ha925a31_0  \n",
      "six                       1.14.0                   py38_0  \n",
      "soupsieve                 2.0.1                      py_0  \n",
      "sqlite                    3.31.1               h2a8f88b_1  \n",
      "terminado                 0.8.3                    py38_0  \n",
      "testpath                  0.4.4                      py_0  \n",
      "tornado                   6.0.4            py38he774522_1  \n",
      "traitlets                 4.3.3                    py38_0  \n",
      "urllib3                   1.25.8                   py38_0  \n",
      "vc                        14.1                 h0510ff6_4  \n",
      "vs2015_runtime            14.16.27012          hf0eaf9b_1  \n",
      "wcwidth                   0.1.9                      py_0  \n",
      "webencodings              0.5.1                    py38_1  \n",
      "wheel                     0.34.2                   py38_0  \n",
      "win_inet_pton             1.1.0                    py38_0  \n",
      "wincertstore              0.2                      py38_0  \n",
      "winpty                    0.4.3                         4  \n",
      "zeromq                    4.3.1                h33f27b4_3  \n",
      "zipp                      3.1.0                      py_0  \n",
      "zlib                      1.2.11           vc14h1cdd9ab_1  [vc14]  anaconda\n"
     ]
    }
   ],
   "source": [
    "!conda list"
   ]
  },
  {
   "cell_type": "code",
   "execution_count": 3,
   "metadata": {},
   "outputs": [
    {
     "name": "stdout",
     "output_type": "stream",
     "text": [
      "hello\n"
     ]
    }
   ],
   "source": [
    "print(\"hello\")"
   ]
  },
  {
   "cell_type": "code",
   "execution_count": 4,
   "metadata": {},
   "outputs": [],
   "source": [
    "import configparser"
   ]
  },
  {
   "cell_type": "code",
   "execution_count": 5,
   "metadata": {},
   "outputs": [
    {
     "data": {
      "text/plain": [
       "['../src/config.ini']"
      ]
     },
     "execution_count": 5,
     "metadata": {},
     "output_type": "execute_result"
    }
   ],
   "source": [
    "conf = configparser.RawConfigParser()\n",
    "conf.read('../src/config.ini')"
   ]
  },
  {
   "cell_type": "code",
   "execution_count": 9,
   "metadata": {},
   "outputs": [
    {
     "data": {
      "text/plain": [
       "[]"
      ]
     },
     "execution_count": 9,
     "metadata": {},
     "output_type": "execute_result"
    }
   ],
   "source": [
    "conf = configparser.RawConfigParser()\n",
    "conf.read('src/config.ini')"
   ]
  },
  {
   "cell_type": "code",
   "execution_count": 11,
   "metadata": {},
   "outputs": [],
   "source": [
    "import sys\n",
    "import os\n",
    "sys.path.insert(0, os.path.abspath('..'))\n",
    "sys.path.insert(0, os.path.abspath('../src'))"
   ]
  },
  {
   "cell_type": "code",
   "execution_count": 12,
   "metadata": {},
   "outputs": [
    {
     "data": {
      "text/plain": [
       "[]"
      ]
     },
     "execution_count": 12,
     "metadata": {},
     "output_type": "execute_result"
    }
   ],
   "source": [
    "conf = configparser.RawConfigParser()\n",
    "conf.read('src/config.ini')"
   ]
  },
  {
   "cell_type": "code",
   "execution_count": null,
   "metadata": {},
   "outputs": [],
   "source": []
  },
  {
   "cell_type": "code",
   "execution_count": 8,
   "metadata": {},
   "outputs": [
    {
     "data": {
      "text/plain": [
       "'C:\\\\Users\\\\adeacon\\\\Documents\\\\GitHub\\\\the-ball-is-round'"
      ]
     },
     "execution_count": 8,
     "metadata": {},
     "output_type": "execute_result"
    }
   ],
   "source": [
    "conf[\"PROJECT\"][\"HOMEDIR\"]"
   ]
  }
 ],
 "metadata": {
  "kernelspec": {
   "display_name": "Python 3",
   "language": "python",
   "name": "python3"
  },
  "language_info": {
   "codemirror_mode": {
    "name": "ipython",
    "version": 3
   },
   "file_extension": ".py",
   "mimetype": "text/x-python",
   "name": "python",
   "nbconvert_exporter": "python",
   "pygments_lexer": "ipython3",
   "version": "3.8.3"
  }
 },
 "nbformat": 4,
 "nbformat_minor": 4
}
