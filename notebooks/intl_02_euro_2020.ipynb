{
 "cells": [
  {
   "cell_type": "markdown",
   "metadata": {},
   "source": [
    "# Euro 2020 (2021) Predictions\n",
    "\n",
    "<!-- Written report for this analysis can be found [here](../reports/boro_01_market_value.md) -->"
   ]
  },
  {
   "cell_type": "markdown",
   "metadata": {},
   "source": [
    "## 1. Business Understanding\n",
    "\n",
    "* Determine Busines Objectives\n",
    "* Situation Assessment\n",
    "* Determine Data Mining Goal\n",
    "* Produce Project Plan"
   ]
  },
  {
   "cell_type": "markdown",
   "metadata": {},
   "source": [
    "```\n",
    "# 1. Predict results of every match at Euro 2020\n",
    "# 2. Make predictions before each round of competition\n",
    "# 3. Ideally, at each round, use the predictions to simulate remainder of competition\n",
    "# 4. Check against other predictions and actual results\n",
    "# 5. Write up process (report/blog)\n",
    "```"
   ]
  },
  {
   "cell_type": "markdown",
   "metadata": {},
   "source": [
    "## 2. Data Understanding\n",
    "\n",
    "* Collect Initial Data\n",
    "* Describe Data\n",
    "* Explore Data\n",
    "* Verify Data Quality"
   ]
  },
  {
   "cell_type": "markdown",
   "metadata": {},
   "source": [
    "### EURO 2020 fixtures/results\n",
    "* https://en.wikipedia.org/wiki/UEFA_Euro_2020\n",
    "* https://www.whoscored.com/Regions/247/Tournaments/124/Seasons/7329/Stages/16297/Show/International-European-Championship-2020\n",
    "* https://www.uefa.com/uefaeuro-2020/fixtures-results/#/md/33673\n",
    "* https://fbref.com/en/comps/676/schedule/UEFA-Euro-Scores-and-Fixtures\n",
    "\n",
    "### Historic results\n",
    "* https://www.staff.city.ac.uk/r.j.gerrard/football/aifrform.html (1871-2001)\n",
    "* https://www.kaggle.com/martj42/international-football-results-from-1872-to-2017/data (1872-)\n",
    "* https://fbref.com/en/comps/676/history/European-Championship-Seasons (2000-)\n",
    "* https://en.wikipedia.org/wiki/UEFA_Euro_2020_qualifying (qualifying)\n",
    "* https://fbref.com/en/comps/678/Euro-Qualifying-Stats (qualifying)\n",
    "\n",
    "### ELO ratings\n",
    "* https://en.m.wikipedia.org/wiki/World_Football_Elo_Ratings\n",
    "* https://www.eloratings.net/2021_European_Championship / https://www.eloratings.net/about\n",
    "\n",
    "### Historic trends\n",
    "* https://blog.annabet.com/soccer-goal-probabilities-poisson-vs-actual-distribution/\n",
    "* https://en.wikipedia.org/wiki/Poisson_distribution\n",
    "\n",
    "### GDP\n",
    "* https://en.wikipedia.org/wiki/List_of_countries_by_GDP_(nominal)\n",
    "* https://en.wikipedia.org/wiki/List_of_countries_by_past_and_projected_GDP_(nominal)\n",
    "* https://www.rug.nl/ggdc/productivity/pwt/"
   ]
  },
  {
   "cell_type": "code",
   "execution_count": null,
   "metadata": {},
   "outputs": [],
   "source": []
  },
  {
   "cell_type": "markdown",
   "metadata": {},
   "source": [
    "## 3. Data Preperation\n",
    "\n",
    "* Select Data\n",
    "* Clean Data\n",
    "* Construct Data\n",
    "* Integrate Data\n",
    "* Format Data"
   ]
  },
  {
   "cell_type": "code",
   "execution_count": null,
   "metadata": {},
   "outputs": [],
   "source": []
  },
  {
   "cell_type": "markdown",
   "metadata": {},
   "source": [
    "## 4. Modelling\n",
    "\n",
    "* Select Modelling Technique\n",
    "* Generate Test Design\n",
    "* Build Model\n",
    "* Assess Model"
   ]
  },
  {
   "cell_type": "markdown",
   "metadata": {},
   "source": [
    "### Updated WC model\n",
    "* https://github.com/deacona/the-ball-is-round/blob/master/reports/intl_01_world_cup_2018.md\n",
    "* https://github.com/deacona/the-ball-is-round/blob/master/notebooks/intl_01_world_cup_2018.ipynb\n",
    "\n",
    "### \"Soccernomics\"\n",
    "* goal diff = (0.6666 * home adv) + (0.5 * relative experience) + (0.1 * relative population) + (0.1 * relative gdp/head) + ...\n",
    "* e.g. England vs Germany at Euro 96\n",
    "    * Home = England = 1\n",
    "    * Exp = 84k v 84k = 0\n",
    "    * Pop = 57 v 81 = -0.4\n",
    "    * GDP/h = 1627492 / 57 v 2633828 / 81 = -0.1\n",
    "    * GD = (0.6666 * 1) + (0.5 * 0) + (0.1 * -0.4) + (0.1 * -0.1) = 0.6\n",
    "* http://www.soccernomics-agency.com/wordpress/wp-content/uploads/2017/10/soccer-convergence-1.pdf\n",
    "\n",
    "### Dixon-Coles (and other probability models)\n",
    "* https://dashee87.github.io/football/python/predicting-football-results-with-statistical-modelling-dixon-coles-and-time-weighting/\n",
    "* http://www.statsandsnakeoil.com/2018/06/05/modelling-the-world-cup-with-regista/\n",
    "* http://opisthokonta.net/?cat=48"
   ]
  },
  {
   "cell_type": "code",
   "execution_count": null,
   "metadata": {},
   "outputs": [],
   "source": []
  },
  {
   "cell_type": "markdown",
   "metadata": {},
   "source": [
    "## 5. Evaluation\n",
    "\n",
    "* Evaluate Results\n",
    "* Review Process\n",
    "* Determine Next Steps"
   ]
  },
  {
   "cell_type": "markdown",
   "metadata": {},
   "source": [
    "```\n",
    "# % correct score, goal diff, result, points\n",
    "# vs historic trends (goals, W/D/L)\n",
    "```"
   ]
  },
  {
   "cell_type": "code",
   "execution_count": null,
   "metadata": {},
   "outputs": [],
   "source": []
  },
  {
   "cell_type": "markdown",
   "metadata": {},
   "source": [
    "## 6. Deployment\n",
    "\n",
    "* Plan Deployment\n",
    "* Plan Monitoring and Maintenance\n",
    "* Produce Final Report\n",
    "* Review Project"
   ]
  },
  {
   "cell_type": "code",
   "execution_count": null,
   "metadata": {},
   "outputs": [],
   "source": []
  }
 ],
 "metadata": {
  "kernelspec": {
   "display_name": "Python 3",
   "language": "python",
   "name": "python3"
  },
  "language_info": {
   "codemirror_mode": {
    "name": "ipython",
    "version": 3
   },
   "file_extension": ".py",
   "mimetype": "text/x-python",
   "name": "python",
   "nbconvert_exporter": "python",
   "pygments_lexer": "ipython3",
   "version": "3.7.1"
  }
 },
 "nbformat": 4,
 "nbformat_minor": 4
}
