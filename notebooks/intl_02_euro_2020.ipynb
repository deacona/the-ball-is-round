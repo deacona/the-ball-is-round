{
 "cells": [
  {
   "cell_type": "markdown",
   "metadata": {},
   "source": [
    "# Euro 2020 (2021) Predictions\n",
    "\n",
    "<!-- Written report for this analysis can be found [here](../reports/boro_01_market_value.md) -->"
   ]
  },
  {
   "cell_type": "markdown",
   "metadata": {},
   "source": [
    "## 1. Business Understanding\n",
    "\n",
    "* Determine Busines Objectives\n",
    "* Situation Assessment\n",
    "* Determine Data Mining Goal\n",
    "* Produce Project Plan"
   ]
  },
  {
   "cell_type": "markdown",
   "metadata": {},
   "source": [
    "```\n",
    "# 1. Predict results of every match at Euro 2020\n",
    "# 2. Make predictions before each round of competition\n",
    "# 3. Ideally, at each round, use the predictions to simulate remainder of competition\n",
    "# 4. Check against other predictions and actual results\n",
    "# 5. Write up process (report/blog)\n",
    "```"
   ]
  },
  {
   "cell_type": "markdown",
   "metadata": {},
   "source": [
    "## 2. Data Understanding\n",
    "\n",
    "* Collect Initial Data\n",
    "* Describe Data\n",
    "* Explore Data\n",
    "* Verify Data Quality"
   ]
  },
  {
   "cell_type": "markdown",
   "metadata": {},
   "source": [
    "### EURO 2020 fixtures/results\n",
    "* https://en.wikipedia.org/wiki/UEFA_Euro_2020\n",
    "* https://www.whoscored.com/Regions/247/Tournaments/124/Seasons/7329/Stages/16297/Show/International-European-Championship-2020\n",
    "* https://www.uefa.com/uefaeuro-2020/fixtures-results/#/md/33673\n",
    "* https://fbref.com/en/comps/676/schedule/UEFA-Euro-Scores-and-Fixtures\n",
    "\n",
    "### Historic results\n",
    "* https://www.staff.city.ac.uk/r.j.gerrard/football/aifrform.html (1871-2001)\n",
    "* https://www.kaggle.com/martj42/international-football-results-from-1872-to-2017/data (1872-)\n",
    "* https://fbref.com/en/comps/676/history/European-Championship-Seasons (2000-)\n",
    "* https://en.wikipedia.org/wiki/UEFA_Euro_2020_qualifying (qualifying)\n",
    "* https://fbref.com/en/comps/678/Euro-Qualifying-Stats (qualifying)\n",
    "\n",
    "### ELO ratings\n",
    "* https://en.m.wikipedia.org/wiki/World_Football_Elo_Ratings\n",
    "* https://www.eloratings.net/2021_European_Championship / https://www.eloratings.net/about\n",
    "\n",
    "### Historic trends\n",
    "* https://blog.annabet.com/soccer-goal-probabilities-poisson-vs-actual-distribution/\n",
    "* https://en.wikipedia.org/wiki/Poisson_distribution\n",
    "\n",
    "### GDP\n",
    "* https://en.wikipedia.org/wiki/List_of_countries_by_GDP_(nominal)\n",
    "* https://en.wikipedia.org/wiki/List_of_countries_by_past_and_projected_GDP_(nominal)\n",
    "* https://www.rug.nl/ggdc/productivity/pwt/"
   ]
  },
  {
   "cell_type": "code",
   "execution_count": 3,
   "metadata": {},
   "outputs": [],
   "source": [
    "import pandas as pd\n",
    "import os"
   ]
  },
  {
   "cell_type": "code",
   "execution_count": 74,
   "metadata": {},
   "outputs": [
    {
     "name": "stdout",
     "output_type": "stream",
     "text": [
      "<class 'pandas.core.frame.DataFrame'>\n",
      "RangeIndex: 211 entries, 0 to 210\n",
      "Data columns (total 20 columns):\n",
      " #   Column         Non-Null Count  Dtype  \n",
      "---  ------         --------------  -----  \n",
      " 0   Round          211 non-null    object \n",
      " 1   Wk             168 non-null    float64\n",
      " 2   Day            211 non-null    object \n",
      " 3   Date           211 non-null    object \n",
      " 4   Time           211 non-null    object \n",
      " 5   Team_1         211 non-null    object \n",
      " 6   Score          175 non-null    object \n",
      " 7   Team_2         211 non-null    object \n",
      " 8   Attendance     175 non-null    float64\n",
      " 9   Venue          211 non-null    object \n",
      " 10  Referee        175 non-null    object \n",
      " 11  Match Report   211 non-null    object \n",
      " 12  Notes          16 non-null     object \n",
      " 13  Filename       211 non-null    object \n",
      " 14  Year           211 non-null    object \n",
      " 15  Team_abbrev_1  211 non-null    object \n",
      " 16  Team_abbrev_2  211 non-null    object \n",
      " 17  Goals_1        175 non-null    float64\n",
      " 18  Goals_2        175 non-null    float64\n",
      " 19  Goal_diff      175 non-null    float64\n",
      "dtypes: float64(5), object(15)\n",
      "memory usage: 33.1+ KB\n"
     ]
    }
   ],
   "source": [
    "comp_list = []\n",
    "for file in os.listdir(\"../data/raw/fbr/competition/\"):\n",
    "    if not file.startswith(\"Euro\"):\n",
    "        continue\n",
    "    if not file.endswith(\".csv\"):\n",
    "        continue\n",
    "        \n",
    "    df = pd.read_csv(os.path.join(\"../data/raw/fbr/competition/\", file))\n",
    "    df[\"Filename\"] = file\n",
    "    comp_list.append(df)\n",
    "\n",
    "# len(comp_list)\n",
    "comp = pd.concat(comp_list)\n",
    "comp.dropna(subset=[\"Round\"], inplace=True)\n",
    "comp.reset_index(drop=True, inplace=True)\n",
    "comp.columns = ['Round', 'Wk', 'Day', 'Date', 'Time', 'Team_1', 'Score', 'Team_2',\n",
    "       'Attendance', 'Venue', 'Referee', 'Match Report', 'Notes', 'Filename']\n",
    "comp[\"Year\"] = comp.Date.str[:4]\n",
    "comp[\"Team_abbrev_1\"] = comp[\"Team_1\"].str[-2:]\n",
    "comp[\"Team_1\"] = comp[\"Team_1\"].str[:-3]\n",
    "comp[\"Team_abbrev_2\"] = comp[\"Team_2\"].str[:2]\n",
    "comp[\"Team_2\"] = comp[\"Team_2\"].str[3:]\n",
    "comp[\"Goals_1\"] = comp.Score.str.extract(pat=\"([0-9]{1,2})–[0-9]{1,2}\")\n",
    "comp[\"Goals_2\"] = comp.Score.str.extract(pat=\"[0-9]{1,2}–([0-9]{1,2})\")\n",
    "for i in range (1, 3):\n",
    "    comp[\"Goals_\"+str(i)] = pd.to_numeric(comp[\"Goals_\"+str(i)], errors='coerce')\n",
    "comp[\"Goal_diff\"] = comp.Goals_1 - comp.Goals_2\n",
    "comp.info()"
   ]
  },
  {
   "cell_type": "code",
   "execution_count": 75,
   "metadata": {},
   "outputs": [
    {
     "data": {
      "text/html": [
       "<div>\n",
       "<style scoped>\n",
       "    .dataframe tbody tr th:only-of-type {\n",
       "        vertical-align: middle;\n",
       "    }\n",
       "\n",
       "    .dataframe tbody tr th {\n",
       "        vertical-align: top;\n",
       "    }\n",
       "\n",
       "    .dataframe thead th {\n",
       "        text-align: right;\n",
       "    }\n",
       "</style>\n",
       "<table border=\"1\" class=\"dataframe\">\n",
       "  <thead>\n",
       "    <tr style=\"text-align: right;\">\n",
       "      <th></th>\n",
       "      <th>Date</th>\n",
       "      <th>Year</th>\n",
       "      <th>Team_1</th>\n",
       "      <th>Team_2</th>\n",
       "      <th>Goals_1</th>\n",
       "      <th>Goals_2</th>\n",
       "      <th>Goal_diff</th>\n",
       "    </tr>\n",
       "  </thead>\n",
       "  <tbody>\n",
       "    <tr>\n",
       "      <th>30</th>\n",
       "      <td>2000-07-02</td>\n",
       "      <td>2000</td>\n",
       "      <td>France</td>\n",
       "      <td>Italy</td>\n",
       "      <td>2.0</td>\n",
       "      <td>1.0</td>\n",
       "      <td>1.0</td>\n",
       "    </tr>\n",
       "    <tr>\n",
       "      <th>173</th>\n",
       "      <td>2016-07-07</td>\n",
       "      <td>2016</td>\n",
       "      <td>Germany</td>\n",
       "      <td>France</td>\n",
       "      <td>0.0</td>\n",
       "      <td>2.0</td>\n",
       "      <td>-2.0</td>\n",
       "    </tr>\n",
       "    <tr>\n",
       "      <th>140</th>\n",
       "      <td>2016-06-16</td>\n",
       "      <td>2016</td>\n",
       "      <td>Ukraine</td>\n",
       "      <td>Northern Ireland</td>\n",
       "      <td>0.0</td>\n",
       "      <td>2.0</td>\n",
       "      <td>-2.0</td>\n",
       "    </tr>\n",
       "    <tr>\n",
       "      <th>75</th>\n",
       "      <td>2008-06-13</td>\n",
       "      <td>2008</td>\n",
       "      <td>Netherlands</td>\n",
       "      <td>France</td>\n",
       "      <td>4.0</td>\n",
       "      <td>1.0</td>\n",
       "      <td>3.0</td>\n",
       "    </tr>\n",
       "    <tr>\n",
       "      <th>60</th>\n",
       "      <td>2004-07-01</td>\n",
       "      <td>2004</td>\n",
       "      <td>Greece</td>\n",
       "      <td>Czech Republic</td>\n",
       "      <td>1.0</td>\n",
       "      <td>0.0</td>\n",
       "      <td>1.0</td>\n",
       "    </tr>\n",
       "    <tr>\n",
       "      <th>208</th>\n",
       "      <td>2021-06-23</td>\n",
       "      <td>2021</td>\n",
       "      <td>Slovakia</td>\n",
       "      <td>Spain</td>\n",
       "      <td>NaN</td>\n",
       "      <td>NaN</td>\n",
       "      <td>NaN</td>\n",
       "    </tr>\n",
       "    <tr>\n",
       "      <th>45</th>\n",
       "      <td>2004-06-19</td>\n",
       "      <td>2004</td>\n",
       "      <td>Latvia</td>\n",
       "      <td>Germany</td>\n",
       "      <td>0.0</td>\n",
       "      <td>0.0</td>\n",
       "      <td>0.0</td>\n",
       "    </tr>\n",
       "    <tr>\n",
       "      <th>183</th>\n",
       "      <td>2021-06-14</td>\n",
       "      <td>2021</td>\n",
       "      <td>Poland</td>\n",
       "      <td>Slovakia</td>\n",
       "      <td>NaN</td>\n",
       "      <td>NaN</td>\n",
       "      <td>NaN</td>\n",
       "    </tr>\n",
       "    <tr>\n",
       "      <th>9</th>\n",
       "      <td>2000-06-15</td>\n",
       "      <td>2000</td>\n",
       "      <td>Sweden</td>\n",
       "      <td>Turkey</td>\n",
       "      <td>0.0</td>\n",
       "      <td>0.0</td>\n",
       "      <td>0.0</td>\n",
       "    </tr>\n",
       "    <tr>\n",
       "      <th>100</th>\n",
       "      <td>2012-06-11</td>\n",
       "      <td>2012</td>\n",
       "      <td>Ukraine</td>\n",
       "      <td>Sweden</td>\n",
       "      <td>2.0</td>\n",
       "      <td>1.0</td>\n",
       "      <td>1.0</td>\n",
       "    </tr>\n",
       "  </tbody>\n",
       "</table>\n",
       "</div>"
      ],
      "text/plain": [
       "           Date  Year       Team_1             Team_2  Goals_1  Goals_2  \\\n",
       "30   2000-07-02  2000       France              Italy      2.0      1.0   \n",
       "173  2016-07-07  2016      Germany             France      0.0      2.0   \n",
       "140  2016-06-16  2016      Ukraine   Northern Ireland      0.0      2.0   \n",
       "75   2008-06-13  2008  Netherlands             France      4.0      1.0   \n",
       "60   2004-07-01  2004       Greece     Czech Republic      1.0      0.0   \n",
       "208  2021-06-23  2021     Slovakia              Spain      NaN      NaN   \n",
       "45   2004-06-19  2004       Latvia            Germany      0.0      0.0   \n",
       "183  2021-06-14  2021       Poland           Slovakia      NaN      NaN   \n",
       "9    2000-06-15  2000       Sweden             Turkey      0.0      0.0   \n",
       "100  2012-06-11  2012      Ukraine             Sweden      2.0      1.0   \n",
       "\n",
       "     Goal_diff  \n",
       "30         1.0  \n",
       "173       -2.0  \n",
       "140       -2.0  \n",
       "75         3.0  \n",
       "60         1.0  \n",
       "208        NaN  \n",
       "45         0.0  \n",
       "183        NaN  \n",
       "9          0.0  \n",
       "100        1.0  "
      ]
     },
     "execution_count": 75,
     "metadata": {},
     "output_type": "execute_result"
    }
   ],
   "source": [
    "comp.loc[:, [\"Date\", \"Year\", \"Team_1\", \"Team_2\", \"Goals_1\", \"Goals_2\", \"Goal_diff\"]].sample(10, random_state=42)"
   ]
  },
  {
   "cell_type": "code",
   "execution_count": null,
   "metadata": {},
   "outputs": [],
   "source": []
  },
  {
   "cell_type": "markdown",
   "metadata": {},
   "source": [
    "## 3. Data Preperation\n",
    "\n",
    "* Select Data\n",
    "* Clean Data\n",
    "* Construct Data\n",
    "* Integrate Data\n",
    "* Format Data"
   ]
  },
  {
   "cell_type": "code",
   "execution_count": null,
   "metadata": {},
   "outputs": [],
   "source": []
  },
  {
   "cell_type": "markdown",
   "metadata": {},
   "source": [
    "## 4. Modelling\n",
    "\n",
    "* Select Modelling Technique\n",
    "* Generate Test Design\n",
    "* Build Model\n",
    "* Assess Model"
   ]
  },
  {
   "cell_type": "markdown",
   "metadata": {},
   "source": [
    "### Updated WC model\n",
    "* https://github.com/deacona/the-ball-is-round/blob/master/reports/intl_01_world_cup_2018.md\n",
    "* https://github.com/deacona/the-ball-is-round/blob/master/notebooks/intl_01_world_cup_2018.ipynb\n",
    "\n",
    "### \"Soccernomics\"\n",
    "* goal diff = (0.6666 * home adv) + (0.5 * relative experience) + (0.1 * relative population) + (0.1 * relative gdp/head) + ...\n",
    "* e.g. England vs Germany at Euro 96\n",
    "    * Home = England = 1\n",
    "    * Exp = 84k v 84k = 0\n",
    "    * Pop = 57 v 81 = -0.4\n",
    "    * GDP/h = 1627492 / 57 v 2633828 / 81 = -0.1\n",
    "    * GD = (0.6666 * 1) + (0.5 * 0) + (0.1 * -0.4) + (0.1 * -0.1) = 0.6\n",
    "* http://www.soccernomics-agency.com/wordpress/wp-content/uploads/2017/10/soccer-convergence-1.pdf\n",
    "\n",
    "### Dixon-Coles (and other probability models)\n",
    "* https://dashee87.github.io/football/python/predicting-football-results-with-statistical-modelling-dixon-coles-and-time-weighting/\n",
    "* http://www.statsandsnakeoil.com/2018/06/05/modelling-the-world-cup-with-regista/\n",
    "* http://opisthokonta.net/?cat=48"
   ]
  },
  {
   "cell_type": "code",
   "execution_count": null,
   "metadata": {},
   "outputs": [],
   "source": []
  },
  {
   "cell_type": "markdown",
   "metadata": {},
   "source": [
    "## 5. Evaluation\n",
    "\n",
    "* Evaluate Results\n",
    "* Review Process\n",
    "* Determine Next Steps"
   ]
  },
  {
   "cell_type": "markdown",
   "metadata": {},
   "source": [
    "```\n",
    "# % correct score, goal diff, result, points\n",
    "# vs historic trends (goals, W/D/L)\n",
    "```"
   ]
  },
  {
   "cell_type": "code",
   "execution_count": null,
   "metadata": {},
   "outputs": [],
   "source": []
  },
  {
   "cell_type": "markdown",
   "metadata": {},
   "source": [
    "## 6. Deployment\n",
    "\n",
    "* Plan Deployment\n",
    "* Plan Monitoring and Maintenance\n",
    "* Produce Final Report\n",
    "* Review Project"
   ]
  },
  {
   "cell_type": "code",
   "execution_count": null,
   "metadata": {},
   "outputs": [],
   "source": []
  }
 ],
 "metadata": {
  "kernelspec": {
   "display_name": "Python 3",
   "language": "python",
   "name": "python3"
  },
  "language_info": {
   "codemirror_mode": {
    "name": "ipython",
    "version": 3
   },
   "file_extension": ".py",
   "mimetype": "text/x-python",
   "name": "python",
   "nbconvert_exporter": "python",
   "pygments_lexer": "ipython3",
   "version": "3.7.1"
  }
 },
 "nbformat": 4,
 "nbformat_minor": 4
}
