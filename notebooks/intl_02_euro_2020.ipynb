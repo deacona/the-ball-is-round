{
 "cells": [
  {
   "cell_type": "markdown",
   "metadata": {},
   "source": [
    "# Euro 2020 (2021) Predictions\n",
    "\n",
    "<!-- Written report for this analysis can be found [here](../reports/boro_01_market_value.md) -->"
   ]
  },
  {
   "cell_type": "markdown",
   "metadata": {},
   "source": [
    "## 1. Business Understanding\n",
    "\n",
    "* Determine Busines Objectives\n",
    "* Situation Assessment\n",
    "* Determine Data Mining Goal\n",
    "* Produce Project Plan"
   ]
  },
  {
   "cell_type": "code",
   "execution_count": null,
   "metadata": {},
   "outputs": [],
   "source": [
    "# Predict results of every match at Euro 2020\n",
    "# Make predictions before each round of competition\n",
    "# Ideally, at each round use predictions to simulate remainder of competition"
   ]
  },
  {
   "cell_type": "markdown",
   "metadata": {},
   "source": [
    "## 2. Data Understanding\n",
    "\n",
    "* Collect Initial Data\n",
    "* Describe Data\n",
    "* Explore Data\n",
    "* Verify Data Quality"
   ]
  },
  {
   "cell_type": "markdown",
   "metadata": {},
   "source": [
    "### EURO 2020 fixtures/results\n",
    "* https://en.wikipedia.org/wiki/UEFA_Euro_2020\n",
    "* https://www.whoscored.com/Regions/247/Tournaments/124/Seasons/7329/Stages/16297/Show/International-European-Championship-2020\n",
    "* https://www.uefa.com/uefaeuro-2020/fixtures-results/#/md/33673\n",
    "* https://fbref.com/en/comps/676/schedule/UEFA-Euro-Scores-and-Fixtures\n",
    "\n",
    "### Historic results (up to 2001)\n",
    "* https://www.staff.city.ac.uk/r.j.gerrard/football/aifrform.html\n",
    "\n",
    "### Historic results (Euros 2000-2016)\n",
    "* https://fbref.com/en/comps/676/history/European-Championship-Seasons\n",
    "\n",
    "### ELO ratings\n",
    "* https://en.m.wikipedia.org/wiki/World_Football_Elo_Ratings\n",
    "* https://www.eloratings.net/2021_European_Championship / https://www.eloratings.net/about\n",
    "\n",
    "### Qualifying results\n",
    "* https://en.wikipedia.org/wiki/UEFA_Euro_2020_qualifying\n",
    "* https://fbref.com/en/comps/678/Euro-Qualifying-Stats\n",
    "\n",
    "### Historic trends\n",
    "* https://blog.annabet.com/soccer-goal-probabilities-poisson-vs-actual-distribution/\n",
    "* https://en.wikipedia.org/wiki/Poisson_distribution\n",
    "\n",
    "### GDP\n",
    "* https://en.wikipedia.org/wiki/List_of_countries_by_GDP_(nominal)\n",
    "* https://en.wikipedia.org/wiki/List_of_countries_by_past_and_projected_GDP_(nominal)"
   ]
  },
  {
   "cell_type": "code",
   "execution_count": null,
   "metadata": {},
   "outputs": [],
   "source": []
  },
  {
   "cell_type": "markdown",
   "metadata": {},
   "source": [
    "## 3. Data Preperation\n",
    "\n",
    "* Select Data\n",
    "* Clean Data\n",
    "* Construct Data\n",
    "* Integrate Data\n",
    "* Format Data"
   ]
  },
  {
   "cell_type": "markdown",
   "metadata": {},
   "source": [
    "## 4. Modelling\n",
    "\n",
    "* Select Modelling Technique\n",
    "* Generate Test Design\n",
    "* Build Model\n",
    "* Assess Model"
   ]
  },
  {
   "cell_type": "markdown",
   "metadata": {},
   "source": [
    "## 5. Evaluation\n",
    "\n",
    "* Evaluate Results\n",
    "* Review Process\n",
    "* Determine Next Steps"
   ]
  },
  {
   "cell_type": "markdown",
   "metadata": {},
   "source": [
    "## 6. Deployment\n",
    "\n",
    "* Plan Deployment\n",
    "* Plan Monitoring and Maintenance\n",
    "* Produce Final Report\n",
    "* Review Project"
   ]
  },
  {
   "cell_type": "code",
   "execution_count": null,
   "metadata": {},
   "outputs": [],
   "source": []
  }
 ],
 "metadata": {
  "kernelspec": {
   "display_name": "Python 3",
   "language": "python",
   "name": "python3"
  },
  "language_info": {
   "codemirror_mode": {
    "name": "ipython",
    "version": 3
   },
   "file_extension": ".py",
   "mimetype": "text/x-python",
   "name": "python",
   "nbconvert_exporter": "python",
   "pygments_lexer": "ipython3",
   "version": "3.7.1"
  }
 },
 "nbformat": 4,
 "nbformat_minor": 4
}
